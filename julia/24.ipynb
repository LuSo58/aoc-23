{
 "cells": [
  {
   "cell_type": "code",
   "execution_count": null,
   "id": "77f3a378-2162-4b03-942e-37695332437c",
   "metadata": {},
   "outputs": [],
   "source": [
    "using JuMP\n",
    "using Ipopt\n",
    "using LinearSolve"
   ]
  },
  {
   "cell_type": "code",
   "execution_count": null,
   "id": "e6e4cdae-db2e-4158-9c21-4396f90dfb97",
   "metadata": {
    "scrolled": true
   },
   "outputs": [],
   "source": [
    "hailstones = readlines(\"../inputs/24\") .|> (line ->\n",
    "     split(line, '@') .|> segment -> split(segment, ',') .|> x -> parse(Float64, x)\n",
    "    )\n",
    "hailstones[1]"
   ]
  },
  {
   "cell_type": "markdown",
   "id": "b2f9e8a7-aff5-4c74-bfc5-ee0e29b1fb77",
   "metadata": {},
   "source": [
    "## Part 1"
   ]
  },
  {
   "cell_type": "code",
   "execution_count": null,
   "id": "7bc2ed47-3bdc-45fe-bc69-68ead2178906",
   "metadata": {},
   "outputs": [],
   "source": [
    "hailstones2d = [ [hailstone[1][1:2], hailstone[2][1:2]] for hailstone in hailstones ]\n",
    "hailstones2d[1]"
   ]
  },
  {
   "cell_type": "code",
   "execution_count": null,
   "id": "a149a2d8-920e-4008-bb16-deabc01a1a0c",
   "metadata": {},
   "outputs": [],
   "source": [
    "bound_min = 200000000000000\n",
    "bound_max = 400000000000000\n",
    "\n",
    "area_min = [bound_min, bound_min]\n",
    "area_max = [bound_max, bound_max]\n",
    "acc = 0\n",
    "\n",
    "for (i, lhs) in hailstones2d |> enumerate\n",
    "    for rhs in hailstones2d[i+1:end]\n",
    "        intersection_time = LinearProblem(hcat(lhs[2], -rhs[2]), rhs[1] - lhs[1]) |> solve\n",
    "        if (intersection_time .> 0) |> prod\n",
    "            intersection_point = lhs[1] + lhs[2] * intersection_time[1]\n",
    "            if ((intersection_point - area_min .> 0) |> prod) &&\n",
    "                ((intersection_point - area_max .< 0) |> prod)\n",
    "                acc += 1\n",
    "            end\n",
    "        end\n",
    "    end\n",
    "end"
   ]
  },
  {
   "cell_type": "markdown",
   "id": "b104b008-31bf-4d7b-9269-05d5b7a15fcc",
   "metadata": {},
   "source": [
    "### Part 1 solution"
   ]
  },
  {
   "cell_type": "code",
   "execution_count": null,
   "id": "0b08f6c3-dbed-415e-add1-519462fd6b33",
   "metadata": {},
   "outputs": [],
   "source": [
    "acc"
   ]
  },
  {
   "cell_type": "markdown",
   "id": "12c53bf3-fcab-4e67-932b-c6ec02b3bed5",
   "metadata": {},
   "source": [
    "## Part 2"
   ]
  },
  {
   "cell_type": "code",
   "execution_count": null,
   "id": "aee82573-dd98-4b06-8b3f-3fb890f5d08d",
   "metadata": {
    "scrolled": true
   },
   "outputs": [],
   "source": [
    "hailstones = hailstones[1:3]"
   ]
  },
  {
   "cell_type": "code",
   "execution_count": null,
   "id": "f2abeabc-0558-48e4-99fa-16663a0b348b",
   "metadata": {},
   "outputs": [],
   "source": [
    "model = Model(Ipopt.Optimizer)\n",
    "set_silent(model)\n",
    "positions = hailstones[:] .|> hailstone -> hailstone[1]\n",
    "velocities = hailstones[:] .|> hailstone -> hailstone[2]\n",
    "\n",
    "@variables(model, begin\n",
    "        s_x\n",
    "        s_y\n",
    "        s_z\n",
    "        v_x\n",
    "        v_y\n",
    "        v_z\n",
    "        t[1:length(hailstones)] \n",
    "    end)\n",
    "\n",
    "for i in 1:length(hailstones)\n",
    "    @constraints(model, begin\n",
    "            s_x + v_x * t[i] == hailstones[i][1][1] + hailstones[i][2][1] * t[i]\n",
    "            s_y + v_y * t[i] == hailstones[i][1][2] + hailstones[i][2][2] * t[i]\n",
    "            s_z + v_z * t[i] == hailstones[i][1][3] + hailstones[i][2][3] * t[i]\n",
    "        end)\n",
    "end\n",
    "\n",
    "model"
   ]
  },
  {
   "cell_type": "code",
   "execution_count": null,
   "id": "9c71fe50-e78e-450b-8a35-5c24d7d67eb5",
   "metadata": {
    "scrolled": true
   },
   "outputs": [],
   "source": [
    "optimize!(model);"
   ]
  },
  {
   "cell_type": "code",
   "execution_count": null,
   "id": "a84683a5-b70d-4d74-8db5-28bef937ae2b",
   "metadata": {},
   "outputs": [],
   "source": [
    "values = value.((s_x, s_y, s_z, v_x, v_y, v_z, t[:]...)) .|> value -> round(Int, value)"
   ]
  },
  {
   "cell_type": "markdown",
   "id": "39a0c8d1-e30a-4e9f-8b79-b7fea90f168e",
   "metadata": {},
   "source": [
    "### Part 2 solution"
   ]
  },
  {
   "cell_type": "code",
   "execution_count": null,
   "id": "714606d5-4c21-4d9b-a617-8c8a35fdeb8e",
   "metadata": {},
   "outputs": [],
   "source": [
    "values[1:3] |> sum"
   ]
  }
 ],
 "metadata": {
  "kernelspec": {
   "display_name": "Julia 1.9.3",
   "language": "julia",
   "name": "julia-1.9"
  },
  "language_info": {
   "file_extension": ".jl",
   "mimetype": "application/julia",
   "name": "julia",
   "version": "1.9.4"
  }
 },
 "nbformat": 4,
 "nbformat_minor": 5
}
