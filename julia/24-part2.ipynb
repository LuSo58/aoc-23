{
 "cells": [
  {
   "cell_type": "code",
   "execution_count": 1,
   "id": "77f3a378-2162-4b03-942e-37695332437c",
   "metadata": {},
   "outputs": [],
   "source": [
    "using JuMP\n",
    "using Ipopt"
   ]
  },
  {
   "cell_type": "markdown",
   "id": "12c53bf3-fcab-4e67-932b-c6ec02b3bed5",
   "metadata": {},
   "source": [
    "## Part 2"
   ]
  },
  {
   "cell_type": "code",
   "execution_count": 2,
   "id": "aee82573-dd98-4b06-8b3f-3fb890f5d08d",
   "metadata": {
    "scrolled": true
   },
   "outputs": [
    {
     "data": {
      "text/plain": [
       "3-element Vector{Vector{Vector{Int64}}}:\n",
       " [[181562673221791, 338272173381384, 367757712264029], [54, -10, -10]]\n",
       " [[206315329209944, 245384073975106, 327941392745372], [55, 100, 14]]\n",
       " [[197625997051112, 364791147875511, 421084289548856], [13, -27, -52]]"
      ]
     },
     "execution_count": 2,
     "metadata": {},
     "output_type": "execute_result"
    }
   ],
   "source": [
    "hailstones = readlines(\"../inputs/24\") .|> (line ->\n",
    "     split(line, '@') .|> segment -> split(segment, ',') .|> x -> parse(Int64, x)\n",
    "    )\n",
    "hailstones = hailstones[1:3]"
   ]
  },
  {
   "cell_type": "code",
   "execution_count": 3,
   "id": "f2abeabc-0558-48e4-99fa-16663a0b348b",
   "metadata": {},
   "outputs": [
    {
     "data": {
      "text/plain": [
       "A JuMP Model\n",
       "Feasibility problem with:\n",
       "Variables: 9\n",
       "`QuadExpr`-in-`MathOptInterface.EqualTo{Float64}`: 9 constraints\n",
       "Model mode: AUTOMATIC\n",
       "CachingOptimizer state: EMPTY_OPTIMIZER\n",
       "Solver name: Ipopt\n",
       "Names registered in the model: s_x, s_y, s_z, t, v_x, v_y, v_z"
      ]
     },
     "execution_count": 3,
     "metadata": {},
     "output_type": "execute_result"
    }
   ],
   "source": [
    "model = Model(Ipopt.Optimizer)\n",
    "set_silent(model)\n",
    "positions = hailstones[:] .|> hailstone -> hailstone[1]\n",
    "velocities = hailstones[:] .|> hailstone -> hailstone[2]\n",
    "\n",
    "@variables(model, begin\n",
    "        s_x\n",
    "        s_y\n",
    "        s_z\n",
    "        v_x\n",
    "        v_y\n",
    "        v_z\n",
    "        t[1:length(hailstones)] \n",
    "    end)\n",
    "\n",
    "for i in 1:length(hailstones)\n",
    "    @constraints(model, begin\n",
    "            s_x + v_x * t[i] == hailstones[i][1][1] + hailstones[i][2][1] * t[i]\n",
    "            s_y + v_y * t[i] == hailstones[i][1][2] + hailstones[i][2][2] * t[i]\n",
    "            s_z + v_z * t[i] == hailstones[i][1][3] + hailstones[i][2][3] * t[i]\n",
    "        end)\n",
    "end\n",
    "\n",
    "model"
   ]
  },
  {
   "cell_type": "code",
   "execution_count": 4,
   "id": "9c71fe50-e78e-450b-8a35-5c24d7d67eb5",
   "metadata": {
    "scrolled": true
   },
   "outputs": [
    {
     "name": "stdout",
     "output_type": "stream",
     "text": [
      "\n",
      "******************************************************************************\n",
      "This program contains Ipopt, a library for large-scale nonlinear optimization.\n",
      " Ipopt is released as open source code under the Eclipse Public License (EPL).\n",
      "         For more information visit https://github.com/coin-or/Ipopt\n",
      "******************************************************************************\n",
      "\n"
     ]
    }
   ],
   "source": [
    "optimize!(model);"
   ]
  },
  {
   "cell_type": "code",
   "execution_count": 5,
   "id": "a84683a5-b70d-4d74-8db5-28bef937ae2b",
   "metadata": {},
   "outputs": [
    {
     "data": {
      "text/plain": [
       "(404422374079783, 199182431001928, 166235642339249, -228, 166, 245, 790282627156, 700024893533, 858076253231)"
      ]
     },
     "execution_count": 5,
     "metadata": {},
     "output_type": "execute_result"
    }
   ],
   "source": [
    "values = value.((s_x, s_y, s_z, v_x, v_y, v_z, t[:]...)) .|> value -> round(Int, value)"
   ]
  },
  {
   "cell_type": "markdown",
   "id": "39a0c8d1-e30a-4e9f-8b79-b7fea90f168e",
   "metadata": {},
   "source": [
    "### Part 2 solution"
   ]
  },
  {
   "cell_type": "code",
   "execution_count": 6,
   "id": "714606d5-4c21-4d9b-a617-8c8a35fdeb8e",
   "metadata": {},
   "outputs": [
    {
     "data": {
      "text/plain": [
       "769840447420960"
      ]
     },
     "execution_count": 6,
     "metadata": {},
     "output_type": "execute_result"
    }
   ],
   "source": [
    "values[1:3] |> sum"
   ]
  }
 ],
 "metadata": {
  "kernelspec": {
   "display_name": "Julia 1.9.3",
   "language": "julia",
   "name": "julia-1.9"
  },
  "language_info": {
   "file_extension": ".jl",
   "mimetype": "application/julia",
   "name": "julia",
   "version": "1.9.4"
  }
 },
 "nbformat": 4,
 "nbformat_minor": 5
}
